{
 "cells": [
  {
   "cell_type": "code",
   "execution_count": 2,
   "metadata": {},
   "outputs": [],
   "source": [
    "import os\n",
    "import pandas as pd"
   ]
  },
  {
   "cell_type": "code",
   "execution_count": 6,
   "metadata": {},
   "outputs": [],
   "source": [
    "file_root = \"./dataset/\"\n",
    "files = os.listdir(file_root)"
   ]
  },
  {
   "cell_type": "code",
   "execution_count": 29,
   "metadata": {},
   "outputs": [],
   "source": [
    "datasets = []\n",
    "for file in files:\n",
    "    if file.endswith(\".csv\"):\n",
    "        datasets.append(pd.read_csv(file_root + file, encoding='cp949'))\n",
    "    else:\n",
    "        datasets.append(pd.read_excel(file_root + file))"
   ]
  },
  {
   "cell_type": "code",
   "execution_count": 37,
   "metadata": {},
   "outputs": [],
   "source": [
    "UNIFIED_LABEL = {\n",
    "    '행복' : 'happiness',\n",
    "    '놀람' : 'surprise',\n",
    "    '분노' : 'angry',\n",
    "    '공포' : 'fear',\n",
    "    '혐오' : 'disgust',\n",
    "    '슬픔' : 'sadness',\n",
    "    '중립' : 'neutral'\n",
    "}\n",
    "\n",
    "LABELS = set(UNIFIED_LABEL.values())"
   ]
  },
  {
   "cell_type": "code",
   "execution_count": 36,
   "metadata": {},
   "outputs": [
    {
     "data": {
      "text/plain": [
       "happiness    4548\n",
       "angry        3263\n",
       "neutral      3253\n",
       "sadness      2848\n",
       "disgust      2321\n",
       "surprise     1755\n",
       "fear         1386\n",
       "Name: 상황, dtype: int64"
      ]
     },
     "execution_count": 36,
     "metadata": {},
     "output_type": "execute_result"
    }
   ],
   "source": [
    "datasets[0]['상황'].value_counts()"
   ]
  },
  {
   "cell_type": "code",
   "execution_count": 35,
   "metadata": {},
   "outputs": [
    {
     "data": {
      "text/plain": [
       "행복    6037\n",
       "놀람    5898\n",
       "분노    5665\n",
       "공포    5468\n",
       "혐오    5429\n",
       "슬픔    5267\n",
       "중립    4830\n",
       "Name: Emotion, dtype: int64"
      ]
     },
     "execution_count": 35,
     "metadata": {},
     "output_type": "execute_result"
    }
   ],
   "source": [
    "datasets[2]['Emotion'].value_counts()"
   ]
  },
  {
   "cell_type": "code",
   "execution_count": 30,
   "metadata": {},
   "outputs": [
    {
     "data": {
      "text/html": [
       "<div>\n",
       "<style scoped>\n",
       "    .dataframe tbody tr th:only-of-type {\n",
       "        vertical-align: middle;\n",
       "    }\n",
       "\n",
       "    .dataframe tbody tr th {\n",
       "        vertical-align: top;\n",
       "    }\n",
       "\n",
       "    .dataframe thead th {\n",
       "        text-align: right;\n",
       "    }\n",
       "</style>\n",
       "<table border=\"1\" class=\"dataframe\">\n",
       "  <thead>\n",
       "    <tr style=\"text-align: right;\">\n",
       "      <th></th>\n",
       "      <th>wav_id</th>\n",
       "      <th>발화문</th>\n",
       "      <th>상황</th>\n",
       "      <th>1번 감정</th>\n",
       "      <th>1번 감정세기</th>\n",
       "      <th>2번 감정</th>\n",
       "      <th>2번 감정세기</th>\n",
       "      <th>3번 감정</th>\n",
       "      <th>3번 감정세기</th>\n",
       "      <th>4번 감정</th>\n",
       "      <th>4번감정세기</th>\n",
       "      <th>5번 감정</th>\n",
       "      <th>5번 감정세기</th>\n",
       "      <th>나이</th>\n",
       "      <th>성별</th>\n",
       "    </tr>\n",
       "  </thead>\n",
       "  <tbody>\n",
       "    <tr>\n",
       "      <th>0</th>\n",
       "      <td>5f4141e29dd513131eacee2f</td>\n",
       "      <td>헐! 나 이벤트에 당첨 됐어.</td>\n",
       "      <td>happiness</td>\n",
       "      <td>angry</td>\n",
       "      <td>2</td>\n",
       "      <td>surprise</td>\n",
       "      <td>2</td>\n",
       "      <td>happiness</td>\n",
       "      <td>2</td>\n",
       "      <td>happiness</td>\n",
       "      <td>2</td>\n",
       "      <td>happiness</td>\n",
       "      <td>2</td>\n",
       "      <td>48</td>\n",
       "      <td>female</td>\n",
       "    </tr>\n",
       "    <tr>\n",
       "      <th>1</th>\n",
       "      <td>5f4141f59dd513131eacee30</td>\n",
       "      <td>내가 좋아하는 인플루언서가 이벤트를 하더라고. 그래서 그냥 신청 한번 해봤지.</td>\n",
       "      <td>happiness</td>\n",
       "      <td>neutral</td>\n",
       "      <td>0</td>\n",
       "      <td>happiness</td>\n",
       "      <td>2</td>\n",
       "      <td>happiness</td>\n",
       "      <td>2</td>\n",
       "      <td>happiness</td>\n",
       "      <td>2</td>\n",
       "      <td>happiness</td>\n",
       "      <td>2</td>\n",
       "      <td>48</td>\n",
       "      <td>female</td>\n",
       "    </tr>\n",
       "    <tr>\n",
       "      <th>2</th>\n",
       "      <td>5f4142119dd513131eacee31</td>\n",
       "      <td>한 명 뽑는 거였는데, 그게 바로 내가 된 거야.</td>\n",
       "      <td>happiness</td>\n",
       "      <td>angry</td>\n",
       "      <td>2</td>\n",
       "      <td>happiness</td>\n",
       "      <td>2</td>\n",
       "      <td>happiness</td>\n",
       "      <td>2</td>\n",
       "      <td>happiness</td>\n",
       "      <td>2</td>\n",
       "      <td>happiness</td>\n",
       "      <td>2</td>\n",
       "      <td>48</td>\n",
       "      <td>female</td>\n",
       "    </tr>\n",
       "    <tr>\n",
       "      <th>3</th>\n",
       "      <td>5f4142279dd513131eacee32</td>\n",
       "      <td>당연히 마음에 드는 선물이니깐, 이벤트에 내가 신청 한번 해본 거지. 비싼 거야. ...</td>\n",
       "      <td>happiness</td>\n",
       "      <td>angry</td>\n",
       "      <td>2</td>\n",
       "      <td>happiness</td>\n",
       "      <td>2</td>\n",
       "      <td>happiness</td>\n",
       "      <td>2</td>\n",
       "      <td>happiness</td>\n",
       "      <td>2</td>\n",
       "      <td>happiness</td>\n",
       "      <td>1</td>\n",
       "      <td>48</td>\n",
       "      <td>female</td>\n",
       "    </tr>\n",
       "    <tr>\n",
       "      <th>4</th>\n",
       "      <td>5f3c9ed98a3c1005aa97c4bd</td>\n",
       "      <td>에피타이저 정말 좋아해. 그 것도 괜찮은 생각인 것 같애.</td>\n",
       "      <td>neutral</td>\n",
       "      <td>happiness</td>\n",
       "      <td>2</td>\n",
       "      <td>happiness</td>\n",
       "      <td>1</td>\n",
       "      <td>happiness</td>\n",
       "      <td>2</td>\n",
       "      <td>happiness</td>\n",
       "      <td>1</td>\n",
       "      <td>happiness</td>\n",
       "      <td>1</td>\n",
       "      <td>48</td>\n",
       "      <td>female</td>\n",
       "    </tr>\n",
       "  </tbody>\n",
       "</table>\n",
       "</div>"
      ],
      "text/plain": [
       "                     wav_id  \\\n",
       "0  5f4141e29dd513131eacee2f   \n",
       "1  5f4141f59dd513131eacee30   \n",
       "2  5f4142119dd513131eacee31   \n",
       "3  5f4142279dd513131eacee32   \n",
       "4  5f3c9ed98a3c1005aa97c4bd   \n",
       "\n",
       "                                                 발화문         상황      1번 감정  \\\n",
       "0                                   헐! 나 이벤트에 당첨 됐어.  happiness      angry   \n",
       "1        내가 좋아하는 인플루언서가 이벤트를 하더라고. 그래서 그냥 신청 한번 해봤지.  happiness    neutral   \n",
       "2                        한 명 뽑는 거였는데, 그게 바로 내가 된 거야.  happiness      angry   \n",
       "3  당연히 마음에 드는 선물이니깐, 이벤트에 내가 신청 한번 해본 거지. 비싼 거야. ...  happiness      angry   \n",
       "4                   에피타이저 정말 좋아해. 그 것도 괜찮은 생각인 것 같애.    neutral  happiness   \n",
       "\n",
       "   1번 감정세기      2번 감정  2번 감정세기      3번 감정  3번 감정세기      4번 감정  4번감정세기  \\\n",
       "0        2   surprise        2  happiness        2  happiness       2   \n",
       "1        0  happiness        2  happiness        2  happiness       2   \n",
       "2        2  happiness        2  happiness        2  happiness       2   \n",
       "3        2  happiness        2  happiness        2  happiness       2   \n",
       "4        2  happiness        1  happiness        2  happiness       1   \n",
       "\n",
       "       5번 감정  5번 감정세기  나이      성별  \n",
       "0  happiness        2  48  female  \n",
       "1  happiness        2  48  female  \n",
       "2  happiness        2  48  female  \n",
       "3  happiness        1  48  female  \n",
       "4  happiness        1  48  female  "
      ]
     },
     "execution_count": 30,
     "metadata": {},
     "output_type": "execute_result"
    }
   ],
   "source": [
    "col_names = ['Text', 'Label']\n",
    "\n",
    "# empty dataframe for merging all datsets\n",
    "data = pd.DataFrame(columns=col_names)\n",
    "\n",
    "for dataset in datasets:\n",
    "    if '상황' in dataset.columns and '발화문' in dataset.columns:\n",
    "        dataset = dataset[['발화문', '상황']]\n",
    "        dataset.columns = col_names\n",
    "        \n",
    "    else:\n",
    "        dataset = dataset[['Sentence', 'Emotion']]\n",
    "        dataset.columns = col_names\n",
    "        dataset = dataset.replace()\n",
    "        \n",
    "    data = pd.concat(data, dataset, axis=0)"
   ]
  },
  {
   "cell_type": "code",
   "execution_count": null,
   "metadata": {},
   "outputs": [],
   "source": []
  }
 ],
 "metadata": {
  "kernelspec": {
   "display_name": "tf-wsl",
   "language": "python",
   "name": "python3"
  },
  "language_info": {
   "codemirror_mode": {
    "name": "ipython",
    "version": 3
   },
   "file_extension": ".py",
   "mimetype": "text/x-python",
   "name": "python",
   "nbconvert_exporter": "python",
   "pygments_lexer": "ipython3",
   "version": "3.8.16"
  },
  "orig_nbformat": 4
 },
 "nbformat": 4,
 "nbformat_minor": 2
}
